{
 "cells": [
  {
   "cell_type": "markdown",
   "metadata": {},
   "source": [
    "# Imports"
   ]
  },
  {
   "cell_type": "code",
   "execution_count": 1,
   "metadata": {},
   "outputs": [],
   "source": [
    "import pandas, json\n",
    "from pandas.io.json import json_normalize\n",
    "\n",
    "from os import path, listdir\n",
    "\n",
    "from math import nan, pi, radians, floor\n",
    "\n",
    "from skimage.io import imread, imshow\n",
    "from skimage.color import rgb2gray\n",
    "from skimage.filters import sobel\n",
    "from skimage.measure import label\n",
    "from skimage.segmentation import slic, join_segmentations\n",
    "from skimage.morphology import watershed\n",
    "from skimage.color import label2rgb\n",
    "from skimage import data\n",
    "\n",
    "import numpy\n",
    "\n",
    "from matplotlib import cm, pyplot"
   ]
  },
  {
   "cell_type": "markdown",
   "metadata": {},
   "source": [
    "# Magic"
   ]
  },
  {
   "cell_type": "code",
   "execution_count": 2,
   "metadata": {},
   "outputs": [],
   "source": [
    "%matplotlib inline"
   ]
  },
  {
   "cell_type": "markdown",
   "metadata": {},
   "source": [
    "# Constants"
   ]
  },
  {
   "cell_type": "code",
   "execution_count": 3,
   "metadata": {},
   "outputs": [],
   "source": [
    "HOME_PATH = path.join(\"/home\", \"jovyan\")\n",
    "SNAPSHOT_PATH = path.join(HOME_PATH, \"data\", \"production\", \"state\", \"snapshots.json\")\n",
    "BASE_IMAGE_PATH = '/home/miguel/IdeaProjects/RapBot/'"
   ]
  },
  {
   "cell_type": "markdown",
   "metadata": {},
   "source": [
    "# Load snapshots"
   ]
  },
  {
   "cell_type": "code",
   "execution_count": 4,
   "metadata": {},
   "outputs": [],
   "source": [
    "def to_dataframe(file, snapshot_path=SNAPSHOT_PATH):\n",
    "    dataframe = pandas.read_json(path.join(snapshot_path, file), lines=True)\n",
    "    return json_normalize(json.loads(dataframe.to_json(orient='records')))\n",
    "    \n",
    "def load_snapshot_data(snapshot_path=SNAPSHOT_PATH):\n",
    "    json_paths = listdir(snapshot_path)\n",
    "    dataframes = [to_dataframe(file) for file in json_paths]\n",
    "    \n",
    "    return pandas.concat(dataframes)"
   ]
  },
  {
   "cell_type": "markdown",
   "metadata": {},
   "source": [
    "# Clean the snapshots"
   ]
  },
  {
   "cell_type": "code",
   "execution_count": 5,
   "metadata": {},
   "outputs": [],
   "source": [
    "def remove_empty_rows(data):\n",
    "    \"\"\"Filter snapshots without an image\"\"\"\n",
    "    return data.replace({\"/dev/null\": nan}).dropna(axis=0, how='any')\n",
    "\n",
    "def localize_paths(data):\n",
    "    \"\"\"Replace desktop paths with container paths\"\"\"\n",
    "    return data.apply(lambda p: path.join(HOME_PATH, path.relpath(p, BASE_IMAGE_PATH)))\n",
    "    \n",
    "def clean_data(data):\n",
    "    filtered_data = remove_empty_rows(data)\n",
    "    filtered_data[\"imagePath\"] = localize_paths(filtered_data[\"imagePath\"])\n",
    "    return filtered_data"
   ]
  },
  {
   "cell_type": "markdown",
   "metadata": {},
   "source": [
    "# Add categories to snapshots"
   ]
  },
  {
   "cell_type": "code",
   "execution_count": 6,
   "metadata": {},
   "outputs": [],
   "source": [
    "def add_quadrant(data):\n",
    "    data[\"quadrant\"] = data[\"drive.orientation\"].apply(lambda orientation: 1 + floor(radians(orientation) / (pi / 2)))\n",
    "\n",
    "def add_direction(data):\n",
    "    data[\"direction\"] = data[\"drive.orientation\"].apply(lambda orientation: \"forward\" if orientation >= 0 and orientation <= 180 else \"reverse\")\n",
    "    \n",
    "def add_movement(data):\n",
    "    data[\"movement\"] = data[\"drive.throttle\"].apply(lambda throttle: \"stopped\" if throttle == 0 else \"moving\")"
   ]
  },
  {
   "cell_type": "markdown",
   "metadata": {},
   "source": [
    "# Load the images"
   ]
  },
  {
   "cell_type": "code",
   "execution_count": 7,
   "metadata": {},
   "outputs": [],
   "source": [
    "def load_image(path):\n",
    "    \"\"\"Loads an image given a path.\"\"\"\n",
    "    return imread(path, as_grey=True)\n",
    "    \n",
    "def transform_image(image):\n",
    "    # Make segmentation using edge-detection and watershed.\n",
    "    edges = sobel(image)\n",
    "\n",
    "    # Identify some background and foreground pixels from the intensity values.\n",
    "    # These pixels are used as seeds for watershed.\n",
    "    foreground, background = 1, 2\n",
    "    \n",
    "    markers = np.zeros_like(image)\n",
    "    markers[image < 30.0] = background\n",
    "    markers[image > 150.0] = foreground\n",
    "\n",
    "    return watershed(edges, markers)\n",
    "\n",
    "def image_features(image):\n",
    "    \"\"\"Transforms an image into a row of features.\"\"\"\n",
    "    return image.reshape(image.shape[0] * image.shape[1])\n",
    "\n",
    "def load_image_data(data):\n",
    "    data[\"image\"] = data[\"imagePath\"].apply(lambda p: load_image(p))\n",
    "    return data"
   ]
  },
  {
   "cell_type": "markdown",
   "metadata": {},
   "source": [
    "# Prepare"
   ]
  },
  {
   "cell_type": "code",
   "execution_count": 8,
   "metadata": {},
   "outputs": [
    {
     "data": {
      "text/html": [
       "<div>\n",
       "<style scoped>\n",
       "    .dataframe tbody tr th:only-of-type {\n",
       "        vertical-align: middle;\n",
       "    }\n",
       "\n",
       "    .dataframe tbody tr th {\n",
       "        vertical-align: top;\n",
       "    }\n",
       "\n",
       "    .dataframe thead th {\n",
       "        text-align: right;\n",
       "    }\n",
       "</style>\n",
       "<table border=\"1\" class=\"dataframe\">\n",
       "  <thead>\n",
       "    <tr style=\"text-align: right;\">\n",
       "      <th></th>\n",
       "      <th>drive.orientation</th>\n",
       "      <th>drive.throttle</th>\n",
       "      <th>imagePath</th>\n",
       "      <th>start</th>\n",
       "      <th>timeWindow</th>\n",
       "      <th>trigger</th>\n",
       "      <th>uuid</th>\n",
       "      <th>vehicle.backLeft.command.value</th>\n",
       "      <th>vehicle.backLeft.speed</th>\n",
       "      <th>vehicle.backRight.command.value</th>\n",
       "      <th>vehicle.backRight.speed</th>\n",
       "      <th>vehicle.frontLeft.command.value</th>\n",
       "      <th>vehicle.frontLeft.speed</th>\n",
       "      <th>vehicle.frontRight.command.value</th>\n",
       "      <th>vehicle.frontRight.speed</th>\n",
       "      <th>image</th>\n",
       "      <th>quadrant</th>\n",
       "      <th>direction</th>\n",
       "      <th>movement</th>\n",
       "    </tr>\n",
       "  </thead>\n",
       "  <tbody>\n",
       "    <tr>\n",
       "      <th>1</th>\n",
       "      <td>90</td>\n",
       "      <td>0</td>\n",
       "      <td>/home/jovyan/data/production/images/image48725...</td>\n",
       "      <td>1525650406810</td>\n",
       "      <td>82</td>\n",
       "      <td>websocket</td>\n",
       "      <td>e2ce5c18-7f39-4155-8139-e28a22e228e3</td>\n",
       "      <td>4</td>\n",
       "      <td>0</td>\n",
       "      <td>4</td>\n",
       "      <td>0</td>\n",
       "      <td>4</td>\n",
       "      <td>0</td>\n",
       "      <td>4</td>\n",
       "      <td>0</td>\n",
       "      <td>[[0.289659215686, 0.289659215686, 0.2896592156...</td>\n",
       "      <td>2</td>\n",
       "      <td>forward</td>\n",
       "      <td>stopped</td>\n",
       "    </tr>\n",
       "    <tr>\n",
       "      <th>2</th>\n",
       "      <td>90</td>\n",
       "      <td>5</td>\n",
       "      <td>/home/jovyan/data/production/images/image51646...</td>\n",
       "      <td>1525650411211</td>\n",
       "      <td>98</td>\n",
       "      <td>driver</td>\n",
       "      <td>76f86f63-f9c9-4060-90db-6d3ef8662875</td>\n",
       "      <td>1</td>\n",
       "      <td>5</td>\n",
       "      <td>1</td>\n",
       "      <td>5</td>\n",
       "      <td>1</td>\n",
       "      <td>5</td>\n",
       "      <td>1</td>\n",
       "      <td>5</td>\n",
       "      <td>[[0.276487843137, 0.290224705882, 0.2941462745...</td>\n",
       "      <td>2</td>\n",
       "      <td>forward</td>\n",
       "      <td>moving</td>\n",
       "    </tr>\n",
       "    <tr>\n",
       "      <th>3</th>\n",
       "      <td>30</td>\n",
       "      <td>5</td>\n",
       "      <td>/home/jovyan/data/production/images/image82544...</td>\n",
       "      <td>1525650412232</td>\n",
       "      <td>77</td>\n",
       "      <td>driver</td>\n",
       "      <td>2a1e667b-03d3-4683-bd08-8eb95578e27b</td>\n",
       "      <td>1</td>\n",
       "      <td>5</td>\n",
       "      <td>1</td>\n",
       "      <td>2</td>\n",
       "      <td>1</td>\n",
       "      <td>5</td>\n",
       "      <td>1</td>\n",
       "      <td>2</td>\n",
       "      <td>[[0.272871764706, 0.280714901961, 0.2767933333...</td>\n",
       "      <td>1</td>\n",
       "      <td>forward</td>\n",
       "      <td>moving</td>\n",
       "    </tr>\n",
       "    <tr>\n",
       "      <th>4</th>\n",
       "      <td>30</td>\n",
       "      <td>0</td>\n",
       "      <td>/home/jovyan/data/production/images/image92102...</td>\n",
       "      <td>1525650413583</td>\n",
       "      <td>63</td>\n",
       "      <td>driver</td>\n",
       "      <td>15dab0e6-eb2e-4287-926d-fbaa875f59cc</td>\n",
       "      <td>1</td>\n",
       "      <td>0</td>\n",
       "      <td>1</td>\n",
       "      <td>0</td>\n",
       "      <td>1</td>\n",
       "      <td>0</td>\n",
       "      <td>1</td>\n",
       "      <td>0</td>\n",
       "      <td>[[0.284636470588, 0.288558039216, 0.2924796078...</td>\n",
       "      <td>1</td>\n",
       "      <td>forward</td>\n",
       "      <td>stopped</td>\n",
       "    </tr>\n",
       "    <tr>\n",
       "      <th>5</th>\n",
       "      <td>30</td>\n",
       "      <td>5</td>\n",
       "      <td>/home/jovyan/data/production/images/image68236...</td>\n",
       "      <td>1525650414664</td>\n",
       "      <td>56</td>\n",
       "      <td>driver</td>\n",
       "      <td>66f0349b-24c1-49ce-a9a2-72f2d6783964</td>\n",
       "      <td>1</td>\n",
       "      <td>5</td>\n",
       "      <td>1</td>\n",
       "      <td>2</td>\n",
       "      <td>1</td>\n",
       "      <td>5</td>\n",
       "      <td>1</td>\n",
       "      <td>2</td>\n",
       "      <td>[[0.286303137255, 0.274538431373, 0.2902247058...</td>\n",
       "      <td>1</td>\n",
       "      <td>forward</td>\n",
       "      <td>moving</td>\n",
       "    </tr>\n",
       "  </tbody>\n",
       "</table>\n",
       "</div>"
      ],
      "text/plain": [
       "   drive.orientation  drive.throttle  \\\n",
       "1                 90               0   \n",
       "2                 90               5   \n",
       "3                 30               5   \n",
       "4                 30               0   \n",
       "5                 30               5   \n",
       "\n",
       "                                           imagePath          start  \\\n",
       "1  /home/jovyan/data/production/images/image48725...  1525650406810   \n",
       "2  /home/jovyan/data/production/images/image51646...  1525650411211   \n",
       "3  /home/jovyan/data/production/images/image82544...  1525650412232   \n",
       "4  /home/jovyan/data/production/images/image92102...  1525650413583   \n",
       "5  /home/jovyan/data/production/images/image68236...  1525650414664   \n",
       "\n",
       "   timeWindow    trigger                                  uuid  \\\n",
       "1          82  websocket  e2ce5c18-7f39-4155-8139-e28a22e228e3   \n",
       "2          98     driver  76f86f63-f9c9-4060-90db-6d3ef8662875   \n",
       "3          77     driver  2a1e667b-03d3-4683-bd08-8eb95578e27b   \n",
       "4          63     driver  15dab0e6-eb2e-4287-926d-fbaa875f59cc   \n",
       "5          56     driver  66f0349b-24c1-49ce-a9a2-72f2d6783964   \n",
       "\n",
       "   vehicle.backLeft.command.value  vehicle.backLeft.speed  \\\n",
       "1                               4                       0   \n",
       "2                               1                       5   \n",
       "3                               1                       5   \n",
       "4                               1                       0   \n",
       "5                               1                       5   \n",
       "\n",
       "   vehicle.backRight.command.value  vehicle.backRight.speed  \\\n",
       "1                                4                        0   \n",
       "2                                1                        5   \n",
       "3                                1                        2   \n",
       "4                                1                        0   \n",
       "5                                1                        2   \n",
       "\n",
       "   vehicle.frontLeft.command.value  vehicle.frontLeft.speed  \\\n",
       "1                                4                        0   \n",
       "2                                1                        5   \n",
       "3                                1                        5   \n",
       "4                                1                        0   \n",
       "5                                1                        5   \n",
       "\n",
       "   vehicle.frontRight.command.value  vehicle.frontRight.speed  \\\n",
       "1                                 4                         0   \n",
       "2                                 1                         5   \n",
       "3                                 1                         2   \n",
       "4                                 1                         0   \n",
       "5                                 1                         2   \n",
       "\n",
       "                                               image  quadrant direction  \\\n",
       "1  [[0.289659215686, 0.289659215686, 0.2896592156...         2   forward   \n",
       "2  [[0.276487843137, 0.290224705882, 0.2941462745...         2   forward   \n",
       "3  [[0.272871764706, 0.280714901961, 0.2767933333...         1   forward   \n",
       "4  [[0.284636470588, 0.288558039216, 0.2924796078...         1   forward   \n",
       "5  [[0.286303137255, 0.274538431373, 0.2902247058...         1   forward   \n",
       "\n",
       "  movement  \n",
       "1  stopped  \n",
       "2   moving  \n",
       "3   moving  \n",
       "4  stopped  \n",
       "5   moving  "
      ]
     },
     "execution_count": 8,
     "metadata": {},
     "output_type": "execute_result"
    }
   ],
   "source": [
    "snapshots = load_image_data(clean_data(load_snapshot_data()))\n",
    "\n",
    "add_quadrant(snapshots)\n",
    "add_direction(snapshots)\n",
    "add_movement(snapshots)\n",
    "\n",
    "snapshots.head()"
   ]
  },
  {
   "cell_type": "markdown",
   "metadata": {},
   "source": [
    "# Determine stratification"
   ]
  },
  {
   "cell_type": "code",
   "execution_count": 9,
   "metadata": {},
   "outputs": [
    {
     "name": "stdout",
     "output_type": "stream",
     "text": [
      "********************************************************************************\n",
      "stopped    857\n",
      "moving     159\n",
      "Name: movement, dtype: int64\n",
      "********************************************************************************\n",
      "snapshot      712\n",
      "driver        297\n",
      "websocket       4\n",
      "$a              1\n",
      "$b              1\n",
      "connection      1\n",
      "Name: trigger, dtype: int64\n",
      "********************************************************************************\n",
      "2    692\n",
      "4    197\n",
      "1     94\n",
      "3     33\n",
      "Name: quadrant, dtype: int64\n",
      "********************************************************************************\n",
      "1    669\n",
      "2    230\n",
      "4    117\n",
      "Name: vehicle.frontLeft.command.value, dtype: int64\n",
      "********************************************************************************\n",
      "1    669\n",
      "2    230\n",
      "4    117\n",
      "Name: vehicle.backLeft.command.value, dtype: int64\n",
      "********************************************************************************\n",
      "1    669\n",
      "2    230\n",
      "4    117\n",
      "Name: vehicle.frontRight.command.value, dtype: int64\n",
      "********************************************************************************\n",
      "1    669\n",
      "2    230\n",
      "4    117\n",
      "Name: vehicle.backRight.command.value, dtype: int64\n"
     ]
    }
   ],
   "source": [
    "columns = [\n",
    "    \"movement\", \"trigger\", \"quadrant\", \n",
    "    \"vehicle.frontLeft.command.value\", \"vehicle.backLeft.command.value\",\n",
    "    \"vehicle.frontRight.command.value\", \"vehicle.backRight.command.value\"\n",
    "]\n",
    "\n",
    "for column in columns:\n",
    "    print(\"*\" * 80)\n",
    "    print(snapshots[column].value_counts())"
   ]
  },
  {
   "cell_type": "code",
   "execution_count": 10,
   "metadata": {},
   "outputs": [
    {
     "data": {
      "text/plain": [
       "<class 'numpy.ndarray'>    1016\n",
       "Name: image, dtype: int64"
      ]
     },
     "execution_count": 10,
     "metadata": {},
     "output_type": "execute_result"
    }
   ],
   "source": [
    "snapshots[\"image\"].apply(lambda i: type(i)).value_counts()"
   ]
  },
  {
   "cell_type": "markdown",
   "metadata": {},
   "source": [
    "# Split into train and test sets"
   ]
  },
  {
   "cell_type": "code",
   "execution_count": 18,
   "metadata": {},
   "outputs": [],
   "source": [
    "from sklearn.model_selection import StratifiedShuffleSplit\n",
    "\n",
    "split = StratifiedShuffleSplit(n_splits=1, test_size=0.2, random_state=42)\n",
    "for train_index, test_index in split.split(snapshots, snapshots[\"quadrant\"]):\n",
    "    train_set = snapshots.iloc[train_index]\n",
    "    test_set = snapshots.iloc[test_index]"
   ]
  },
  {
   "cell_type": "code",
   "execution_count": 19,
   "metadata": {},
   "outputs": [
    {
     "name": "stdout",
     "output_type": "stream",
     "text": [
      "812 train +  204 test\n"
     ]
    }
   ],
   "source": [
    "print(len(train_set), \"train + \", len(test_set), \"test\")"
   ]
  },
  {
   "cell_type": "code",
   "execution_count": 21,
   "metadata": {},
   "outputs": [],
   "source": [
    "snapshots = train_set"
   ]
  },
  {
   "cell_type": "markdown",
   "metadata": {},
   "source": [
    "# Visualize the data"
   ]
  },
  {
   "cell_type": "code",
   "execution_count": null,
   "metadata": {},
   "outputs": [],
   "source": [
    "def plot_images(instances, shape, images_per_row=10, **options):\n",
    "    length, width = shape\n",
    "    \n",
    "    images_per_row = min(len(instances), images_per_row)\n",
    "    n_rows = (len(instances) - 1) // images_per_row + 1\n",
    "    n_empty = n_rows * images_per_row - len(instances)\n",
    "    \n",
    "    for i in range(0, n_empty):\n",
    "        instances.append(numpy.zeros((length, width)))\n",
    "    \n",
    "    row_images = []\n",
    "    for row in range(n_rows):\n",
    "        rimages = instances[row * images_per_row : (row + 1) * images_per_row]\n",
    "        row_images.append(numpy.concatenate(rimages, axis=1))\n",
    "    \n",
    "    image = numpy.concatenate(row_images, axis=0)\n",
    "    \n",
    "    pyplot.figure(figsize=(50, 50))\n",
    "    pyplot.imshow(image, cmap = cm.gray, **options)\n",
    "    pyplot.axis(\"off\")\n",
    "    pyplot.show()"
   ]
  },
  {
   "cell_type": "code",
   "execution_count": null,
   "metadata": {},
   "outputs": [],
   "source": [
    "shape = images.head(n=1).values[0].shape\n",
    "images_per_row = 5\n",
    "rows = 5\n",
    "samples = images.sample(n=5*rows).values\n",
    "\n",
    "plot_images(samples, shape, images_per_row=images_per_row)"
   ]
  },
  {
   "cell_type": "code",
   "execution_count": null,
   "metadata": {},
   "outputs": [],
   "source": [
    "snapshots.info()"
   ]
  },
  {
   "cell_type": "code",
   "execution_count": null,
   "metadata": {},
   "outputs": [],
   "source": [
    "snapshots.describe()"
   ]
  },
  {
   "cell_type": "code",
   "execution_count": null,
   "metadata": {},
   "outputs": [],
   "source": [
    "snapshots.hist(bins=50, figsize=(20, 15))"
   ]
  },
  {
   "cell_type": "code",
   "execution_count": null,
   "metadata": {},
   "outputs": [],
   "source": [
    "corr_matrix = snapshots.corr()\n",
    "corr_matrix[\"drive.orientation\"].sort_values(ascending=False)"
   ]
  },
  {
   "cell_type": "markdown",
   "metadata": {},
   "source": [
    "# Train a model"
   ]
  },
  {
   "cell_type": "code",
   "execution_count": null,
   "metadata": {},
   "outputs": [],
   "source": [
    "def prepare_data(data):\n",
    "    X = data[\"image\"].apply(lambda image: image_features(image)).values\n",
    "    y = data[\"drive.orientation\"].values\n",
    "    \n",
    "    return X, y"
   ]
  },
  {
   "cell_type": "code",
   "execution_count": null,
   "metadata": {},
   "outputs": [],
   "source": [
    "print(train_set[\"image\"].apply(lambda image: type(image)).value_counts())\n",
    "print(test_set[\"image\"].apply(lambda image: type(image)).value_counts())\n",
    "train_set.where(train_set[\"image\"].apply(lambda i: type(i) == float)).head()"
   ]
  },
  {
   "cell_type": "code",
   "execution_count": null,
   "metadata": {},
   "outputs": [],
   "source": [
    "X, y = prepare_data(snapshots)\n",
    "X_test, y_test = prepare_data(test_set)"
   ]
  },
  {
   "cell_type": "code",
   "execution_count": null,
   "metadata": {},
   "outputs": [],
   "source": [
    "from sklearn.tree import DecisionTreeRegressor\n",
    "from sklearn.metrics import mean_squared_error\n",
    "\n",
    "tree_reg = DecisionTreeRegressor(random_state=42)\n",
    "tree_reg.fit(X, y)\n",
    "\n",
    "y_predictions = tree_reg.predict(X_test)\n",
    "tree_mse = mean_squared_error(y_test, y_predictions)\n",
    "tree_rmse = numpy.sqrt(tree_mse)\n",
    "tree_rmse"
   ]
  }
 ],
 "metadata": {
  "kernelspec": {
   "display_name": "Python 3",
   "language": "python",
   "name": "python3"
  },
  "language_info": {
   "codemirror_mode": {
    "name": "ipython",
    "version": 3
   },
   "file_extension": ".py",
   "mimetype": "text/x-python",
   "name": "python",
   "nbconvert_exporter": "python",
   "pygments_lexer": "ipython3",
   "version": "3.6.3"
  }
 },
 "nbformat": 4,
 "nbformat_minor": 2
}
